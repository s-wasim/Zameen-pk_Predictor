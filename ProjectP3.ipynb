{
 "cells": [
  {
   "cell_type": "markdown",
   "id": "96f3ff13",
   "metadata": {},
   "source": [
    "# Project Phase 1\n",
    "### Zameen.com Price Predictor\n",
    "L191101 - Mohammad Hasaan <br>\n",
    "L192367 - Laiba Gohar <br>\n",
    "L191003 - Saad Waseem\n",
    "## Process Description\n",
    "<ul>\n",
    "    <li>Make clusters of AMENITIES, TYPE, and LOCATION</li>\n",
    "    <ul>\n",
    "        <li>Find the average of stdPRICE and stdAREA for each cluster</li>\n",
    "        <li>Divide these values as stdPRICE / stdAREA to get PLOTVAL</li>\n",
    "    </ul>\n",
    "    <li>Use Multivariate regression using standardised variables AREA, PLOTVAL, and INTALLMENTVal to predict the PRICE of plots.</li>\n",
    "</ul>\n",
    "\n",
    "## Loading Data and Preprocessing\n",
    "The following portion loads the cleaned data into a dataframe and then processes the frames so ML operations could be applied to them.\n",
    "### Loading Data and Clustering\n",
    "<b>L192367 - Laiba Gohar</b>"
   ]
  },
  {
   "cell_type": "code",
   "execution_count": 124,
   "id": "d0ccb218",
   "metadata": {},
   "outputs": [],
   "source": [
    "import pandas as pd\n",
    "import os\n",
    "from sklearn.cluster import KMeans\n",
    "import numpy as np\n",
    "import matplotlib.pyplot as plt"
   ]
  },
  {
   "cell_type": "code",
   "execution_count": 138,
   "id": "52658004",
   "metadata": {},
   "outputs": [],
   "source": [
    "path_clean_data = 'Data_Cleaned/Cleaned_Data.csv'\n",
    "path_categories = [\n",
    "    'Data_Cleaned/Categories/Category_Names_Amenities.csv',\n",
    "    'Data_Cleaned/Categories/Category_Names_Type.csv',\n",
    "    'Data_Cleaned/Categories/Category_Names_Location.csv'\n",
    "]\n",
    "clean_data_df = pd.read_csv(path_clean_data)\n",
    "categories_names = {\n",
    "    'Amenities': pd.read_csv(path_categories[0]),\n",
    "    'Types': pd.read_csv(path_categories[1]),\n",
    "    'Location': pd.read_csv(path_categories[2])\n",
    "}"
   ]
  },
  {
   "cell_type": "markdown",
   "id": "6a505e8b",
   "metadata": {},
   "source": [
    "Define number of clusters needed for KMeans"
   ]
  },
  {
   "cell_type": "code",
   "execution_count": 139,
   "id": "ab4b05dd",
   "metadata": {},
   "outputs": [
    {
     "data": {
      "text/plain": [
       "81"
      ]
     },
     "execution_count": 139,
     "metadata": {},
     "output_type": "execute_result"
    }
   ],
   "source": [
    "n = len(clean_data_df['Location'].unique())\n",
    "n"
   ]
  },
  {
   "cell_type": "code",
   "execution_count": 140,
   "id": "e973f811",
   "metadata": {},
   "outputs": [
    {
     "name": "stderr",
     "output_type": "stream",
     "text": [
      "C:\\Users\\Saad\\anaconda3\\envs\\notebook\\lib\\site-packages\\sklearn\\cluster\\_kmeans.py:870: FutureWarning: The default value of `n_init` will change from 10 to 'auto' in 1.4. Set the value of `n_init` explicitly to suppress the warning\n",
      "  warnings.warn(\n"
     ]
    }
   ],
   "source": [
    "kmeans_clustering_obj = KMeans(n_clusters=n, random_state=42)\n",
    "clean_data_df['Cluster'] = kmeans_clustering_obj.fit_predict(clean_data_df[['Location', 'Type', 'Amenities']])\n",
    "clean_data_df.drop(columns=['Unnamed: 0'], axis=1, inplace=True)\n",
    "\n",
    "clusters = [] # Clusters separation\n",
    "for cluster in range(n):\n",
    "    clusters.append(clean_data_df[clean_data_df['Cluster']==cluster])\n",
    "    \n",
    "# Create a place value of clusters\n",
    "place_value = {}\n",
    "for cluster in clusters:\n",
    "    sum_price = cluster['Price'].sum()\n",
    "    sum_area = cluster['Area'].sum()\n",
    "    place_value[int(cluster['Cluster'].unique())] = sum_price / sum_area"
   ]
  },
  {
   "cell_type": "code",
   "execution_count": 142,
   "id": "e02205ec",
   "metadata": {},
   "outputs": [
    {
     "data": {
      "text/plain": [
       "1450787.401574803"
      ]
     },
     "execution_count": 142,
     "metadata": {},
     "output_type": "execute_result"
    }
   ],
   "source": [
    "place_value[0]"
   ]
  },
  {
   "cell_type": "code",
   "execution_count": 146,
   "id": "06bc8fee",
   "metadata": {},
   "outputs": [
    {
     "data": {
      "text/html": [
       "<div>\n",
       "<style scoped>\n",
       "    .dataframe tbody tr th:only-of-type {\n",
       "        vertical-align: middle;\n",
       "    }\n",
       "\n",
       "    .dataframe tbody tr th {\n",
       "        vertical-align: top;\n",
       "    }\n",
       "\n",
       "    .dataframe thead th {\n",
       "        text-align: right;\n",
       "    }\n",
       "</style>\n",
       "<table border=\"1\" class=\"dataframe\">\n",
       "  <thead>\n",
       "    <tr style=\"text-align: right;\">\n",
       "      <th></th>\n",
       "      <th>Type</th>\n",
       "      <th>Price</th>\n",
       "      <th>Location</th>\n",
       "      <th>Area</th>\n",
       "      <th>Creation date</th>\n",
       "      <th>Amenities</th>\n",
       "      <th>Installment value</th>\n",
       "      <th>Cluster</th>\n",
       "      <th>Place_Val</th>\n",
       "    </tr>\n",
       "  </thead>\n",
       "  <tbody>\n",
       "    <tr>\n",
       "      <th>0</th>\n",
       "      <td>0</td>\n",
       "      <td>1900000</td>\n",
       "      <td>0</td>\n",
       "      <td>5.0</td>\n",
       "      <td>1 day ago</td>\n",
       "      <td>0</td>\n",
       "      <td>NaN</td>\n",
       "      <td>27</td>\n",
       "      <td>0</td>\n",
       "    </tr>\n",
       "    <tr>\n",
       "      <th>1</th>\n",
       "      <td>0</td>\n",
       "      <td>4500000</td>\n",
       "      <td>0</td>\n",
       "      <td>5.0</td>\n",
       "      <td>1 day ago</td>\n",
       "      <td>0</td>\n",
       "      <td>NaN</td>\n",
       "      <td>27</td>\n",
       "      <td>0</td>\n",
       "    </tr>\n",
       "    <tr>\n",
       "      <th>2</th>\n",
       "      <td>0</td>\n",
       "      <td>5900000</td>\n",
       "      <td>0</td>\n",
       "      <td>7.5</td>\n",
       "      <td>4 days ago</td>\n",
       "      <td>1</td>\n",
       "      <td>NaN</td>\n",
       "      <td>27</td>\n",
       "      <td>0</td>\n",
       "    </tr>\n",
       "    <tr>\n",
       "      <th>3</th>\n",
       "      <td>0</td>\n",
       "      <td>5900000</td>\n",
       "      <td>0</td>\n",
       "      <td>7.5</td>\n",
       "      <td>4 days ago</td>\n",
       "      <td>1</td>\n",
       "      <td>NaN</td>\n",
       "      <td>27</td>\n",
       "      <td>0</td>\n",
       "    </tr>\n",
       "    <tr>\n",
       "      <th>4</th>\n",
       "      <td>0</td>\n",
       "      <td>5900000</td>\n",
       "      <td>0</td>\n",
       "      <td>7.5</td>\n",
       "      <td>4 days ago</td>\n",
       "      <td>1</td>\n",
       "      <td>NaN</td>\n",
       "      <td>27</td>\n",
       "      <td>0</td>\n",
       "    </tr>\n",
       "  </tbody>\n",
       "</table>\n",
       "</div>"
      ],
      "text/plain": [
       "   Type    Price  Location  Area Creation date  Amenities  Installment value  \\\n",
       "0     0  1900000         0   5.0     1 day ago          0                NaN   \n",
       "1     0  4500000         0   5.0     1 day ago          0                NaN   \n",
       "2     0  5900000         0   7.5    4 days ago          1                NaN   \n",
       "3     0  5900000         0   7.5    4 days ago          1                NaN   \n",
       "4     0  5900000         0   7.5    4 days ago          1                NaN   \n",
       "\n",
       "   Cluster  Place_Val  \n",
       "0       27          0  \n",
       "1       27          0  \n",
       "2       27          0  \n",
       "3       27          0  \n",
       "4       27          0  "
      ]
     },
     "execution_count": 146,
     "metadata": {},
     "output_type": "execute_result"
    }
   ],
   "source": [
    "clean_data_df['Place_Val'] = [0] * len(clean_data_df)\n",
    "clean_data_df.head()"
   ]
  },
  {
   "cell_type": "code",
   "execution_count": 147,
   "id": "dc9fd225",
   "metadata": {},
   "outputs": [],
   "source": [
    "for index, row in clean_data_df.iterrows():\n",
    "    cluster_num = row['Cluster']\n",
    "    clean_data_df.iloc[index, clean_data_df.columns.get_loc('Place_Val')] = place_value[cluster_num]"
   ]
  },
  {
   "cell_type": "markdown",
   "id": "36643592",
   "metadata": {},
   "source": [
    "Standardising new values"
   ]
  },
  {
   "cell_type": "code",
   "execution_count": 168,
   "id": "c2b44f48",
   "metadata": {
    "scrolled": true
   },
   "outputs": [],
   "source": [
    "pv_max = clean_data_df['Place_Val'].max()\n",
    "pv_den = pv_max - clean_data_df['Place_Val'].min()\n",
    "clean_data_df['Place_Val'] = (pv_max - clean_data_df['Place_Val']) / pv_den"
   ]
  },
  {
   "cell_type": "code",
   "execution_count": 169,
   "id": "2ec991b6",
   "metadata": {},
   "outputs": [],
   "source": [
    "stand_data_df = pd.read_csv('Data_Cleaned/Standardised_Data.csv')\n",
    "stand_data_df['Place value'] = clean_data_df['Place_Val']\n",
    "stand_data_df.drop(columns='Unnamed: 0', axis=1, inplace=True)\n",
    "stand_data_df.to_csv('Data_Cleaned/Standardised_Data.csv')"
   ]
  },
  {
   "cell_type": "markdown",
   "id": "e3c5a8ae",
   "metadata": {},
   "source": [
    "### Multivariate Regression from Standardised Data\n",
    "<b>L191003 - Saad Waseem</b>"
   ]
  },
  {
   "cell_type": "markdown",
   "id": "ad2be0f9",
   "metadata": {},
   "source": [
    "        Price            Area\n",
    "mean   2.326870e+07     22.419965\n",
    "std    4.433047e+07    241.818415\n",
    "min    1.000000e+05      0.000000\n",
    "max    9.900000e+08  19200.000000\n",
    "\n",
    "\n",
    "mean\t1.422226e+06\n",
    "std\t6.614049e+05\n",
    "min\t6.244290e+04\n",
    "max\t2.644082e+06"
   ]
  },
  {
   "cell_type": "code",
   "execution_count": 192,
   "id": "6d9a8430",
   "metadata": {},
   "outputs": [],
   "source": [
    "reversals = {\n",
    "    'price_values': {'max': 9.900000e+08, 'min': 1.000000e+05, 'std': 4.433047e+07, 'mean': 2.326870e+07},\n",
    "    'area_values': {'max': 19200.000000, 'min': 0.000000, 'std': 241.818415, 'mean': 22.419965},\n",
    "    'pv_values': {'max': 2.644082e+06, 'min': 6.244290e+04, 'std': 6.614049e+05, 'mean': 1.422226e+06}\n",
    "}\n",
    "\n",
    "def reverse(rev_name, prediction):\n",
    "    u_std =  reversals[rev_name]['max'] - (prediction * (reversals[rev_name]['max'] - reversals[rev_name]['min'])) \n",
    "    return (u_std * reversals[rev_name]['std']) + reversals[rev_name]['mean']\n",
    "\n",
    "def predict_price(A, PV, rm):\n",
    "    return rm.coef_[0][0] * A + rm.coef_[0][1] * PV + rm.intercept_"
   ]
  },
  {
   "cell_type": "code",
   "execution_count": 179,
   "id": "f6529206",
   "metadata": {},
   "outputs": [
    {
     "name": "stdout",
     "output_type": "stream",
     "text": [
      "Intercept: \n",
      " [0.3459233]\n",
      "Coefficients: \n",
      " [[ 0.64923541 -0.03458693]]\n"
     ]
    }
   ],
   "source": [
    "from sklearn import linear_model\n",
    "\n",
    "x = stand_data_df[['Area', 'Place value']]\n",
    "y = stand_data_df[['Price']]\n",
    "\n",
    "regression_model = linear_model.LinearRegression()\n",
    "regression_model.fit(x, y)\n",
    "print('Intercept: \\n', regression_model.intercept_)\n",
    "print('Coefficients: \\n', regression_model.coef_)"
   ]
  },
  {
   "cell_type": "code",
   "execution_count": 197,
   "id": "20825bd3",
   "metadata": {},
   "outputs": [
    {
     "name": "stdout",
     "output_type": "stream",
     "text": [
      "Predicted Value:  [1.01316893e+15]\n",
      "Actual Value:  15860879753831.158\n",
      "Error:  [-9.97308047e+14]\n"
     ]
    }
   ],
   "source": [
    "standard_price = predict_price(0.999739583, 0.519754773, regression_model) # Area, Place Value\n",
    "print('Predicted Value: ', reverse('price_values', standard_price))\n",
    "print('Actual Value: ', reverse('price_values', 0.999739583))"
   ]
  }
 ],
 "metadata": {
  "kernelspec": {
   "display_name": "Python 3 (ipykernel)",
   "language": "python",
   "name": "python3"
  },
  "language_info": {
   "codemirror_mode": {
    "name": "ipython",
    "version": 3
   },
   "file_extension": ".py",
   "mimetype": "text/x-python",
   "name": "python",
   "nbconvert_exporter": "python",
   "pygments_lexer": "ipython3",
   "version": "3.10.9"
  }
 },
 "nbformat": 4,
 "nbformat_minor": 5
}
